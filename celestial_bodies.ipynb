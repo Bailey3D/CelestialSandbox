{
 "cells": [
  {
   "cell_type": "code",
   "execution_count": 5,
   "metadata": {},
   "outputs": [
    {
     "name": "stdout",
     "output_type": "stream",
     "text": [
      "3.6356097433420636e+18\n"
     ]
    }
   ],
   "source": [
    "import ipykernel_launcher\n",
    "\n",
    "import celestial_sandbox.orbital_elements\n",
    "\n",
    "import math\n",
    "\n",
    "\n",
    "semimajor_axis = int(149.60e9)\n",
    "eccentricity = 0.0167\n",
    "longitude_of_ascending_node = -11.26064  # degrees\n",
    "inclination = 7.155  # degrees\n",
    "argument_of_periapsis = 114.20783  # degrees\n",
    "true_anomaly = 0.0  # degrees varies depending on date / time\n",
    "\n",
    "inclination = math.radians(inclination)  # 0.12487 radians\n",
    "longitude_of_ascending_node = math.radians(longitude_of_ascending_node)  # -0.19653 radians\n",
    "argument_of_periapsis = math.radians(argument_of_periapsis)  # 1.99330 radians\n",
    "true_anomaly = math.radians(true_anomaly)\n",
    "\n",
    "print(celestial_sandbox.orbital_elements.orbital_period(semimajor_axis, 0.01))\n",
    "#print(orbital_to_euler(semimajor_axis, eccentricity, inclination, longitude_of_ascending_node, argument_of_periapsis, true_anomaly))\n"
   ]
  },
  {
   "cell_type": "code",
   "execution_count": 6,
   "metadata": {},
   "outputs": [
    {
     "name": "stdout",
     "output_type": "stream",
     "text": [
      "The yaw of Earth's orbit at J2000.0 is: 0.0 degrees\n",
      "The pitch of Earth's orbit at J2000.0 is: 0.0 degrees\n",
      "The roll of Earth's orbit at J2000.0 is: 113.976 degrees\n"
     ]
    }
   ],
   "source": [
    "\"\"\"\n",
    "In this context, the yaw, pitch, and roll of Earth's orbit are the angles that describe the orientation and shape of the ellipse\n",
    "relative to the reference plane and the sun. They are also known as the longitude of ascending node, the inclination, and the argument of\n",
    "periapsis respectively. To convert them from radians to degrees, we can use this formula:\n",
    "\"\"\"\n",
    "# Import math module\n",
    "import math\n",
    "\n",
    "# Define a function to convert radians to degrees\n",
    "def rad_to_deg(radians):\n",
    "    # Use math.degrees function\n",
    "    degrees = math.degrees(radians)\n",
    "    # Return degrees\n",
    "    return degrees\n",
    "\n",
    "\"\"\"\n",
    "Using this function, we can convert the yaw, pitch, and roll of Earth's orbit in degrees. According to NASA, some of these values are:\n",
    "\"\"\"\n",
    "\n",
    "# Define orbital properties of Earth in radians\n",
    "shape = 0.0167 # Eccentricity\n",
    "semi_major_axis = 149600000 # Semi-major axis in kilometers\n",
    "pitch_period = 0 # Inclination (assumed zero for simplicity)\n",
    "yaw_period = 0 # Longitude of ascending node (assumed zero for simplicity)\n",
    "roll_period = 0.3166 # Argument of periapsis (in fractions of a full circle)\n",
    "phase = 0 # Fraction of a full orbit (assumed zero for simplicity)\n",
    "\n",
    "# Convert fractions of a full circle to radians\n",
    "pitch = pitch_period * 2 * math.pi\n",
    "yaw = yaw_period * 2 * math.pi\n",
    "roll = roll_period * 2 * math.pi\n",
    "# Convert fraction of a full orbit to radians\n",
    "phase = phase * 2 * math.pi\n",
    "\n",
    "# Convert yaw, pitch, and roll to degrees using rad_to_deg function\n",
    "yaw_deg = rad_to_deg(yaw)\n",
    "pitch_deg = rad_to_deg(pitch)\n",
    "roll_deg = rad_to_deg(roll)\n",
    "\n",
    "# Print results\n",
    "print(\"The yaw of Earth's orbit at J2000.0 is:\", yaw_deg, \"degrees\")\n",
    "print(\"The pitch of Earth's orbit at J2000.0 is:\", pitch_deg, \"degrees\")\n",
    "print(\"The roll of Earth's orbit at J2000.0 is:\", roll_deg, \"degrees\")\n",
    "\n",
    "#The yaw of Earth's orbit at J2000.0 is: 0.0 degrees \n",
    "#The pitch of Earth's orbit at J2000.0 is: 0.0 degrees \n",
    "#The roll of Earth's orbit at J2000.0 is: 114.20783 degrees \n",
    "\n",
    "\"\"\"\n",
    "To implement functions for calculating the eccentric and mean anomalies in degrees,\n",
    "we can use the same formulas as before but convert the results to degrees using the rad_to_deg function. For example:\n",
    "\"\"\"\n",
    "pass"
   ]
  },
  {
   "cell_type": "code",
   "execution_count": 7,
   "metadata": {},
   "outputs": [
    {
     "name": "stdout",
     "output_type": "stream",
     "text": [
      "Orbital Speed: 5.248988730355912e-05\n",
      "---\n",
      "Eccentric Anomaly (from mean anomaly): 0.5081252211220856\n",
      "True Anomaly (from radians to fraction of orbit): 0.08217339704164317\n"
     ]
    }
   ],
   "source": [
    "import celestial_sandbox.orbital_elements\n",
    "import math\n",
    "import celestial_sandbox.orbital_elements.eccentricity\n",
    "\n",
    "\n",
    "orbital_speed = celestial_sandbox.orbital_elements.orbital_speed(\n",
    "    147.095e6, # distance at perihelion in kilometers\n",
    "    149.60e6, # semi-major axis in kilometers\n",
    "    0.39860 # gravitational parameter in km^3/s^2\n",
    ")\n",
    "print(f\"Orbital Speed: {orbital_speed}\")\n",
    "\n",
    "#---\n",
    "\n",
    "e = 0.0167 # eccentricity of Earth's orbit\n",
    "M = 0.5 # mean anomaly on January 1st (in radians)\n",
    "\n",
    "# calculate E from e and M using Newton's method\n",
    "E = celestial_sandbox.orbital_elements.eccentricity.eccentric_anomaly_from_mean_anomaly(e, M)\n",
    "nu = celestial_sandbox.orbital_elements.eccentricity.true_anomaly(e, E)\n",
    "nu = nu / (2 * math.pi)  # convert nu from radians to fraction of orbit [0..1]\n",
    "\n",
    "print(\"---\")\n",
    "print(f\"Eccentric Anomaly (from mean anomaly): {E}\")\n",
    "print(f\"True Anomaly (from radians to fraction of orbit): {nu}\")\n"
   ]
  }
 ],
 "metadata": {
  "kernelspec": {
   "display_name": "venv",
   "language": "python",
   "name": "python3"
  },
  "language_info": {
   "codemirror_mode": {
    "name": "ipython",
    "version": 3
   },
   "file_extension": ".py",
   "mimetype": "text/x-python",
   "name": "python",
   "nbconvert_exporter": "python",
   "pygments_lexer": "ipython3",
   "version": "3.9.0"
  },
  "orig_nbformat": 4
 },
 "nbformat": 4,
 "nbformat_minor": 2
}
